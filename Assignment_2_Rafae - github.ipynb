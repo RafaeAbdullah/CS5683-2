{
 "cells": [
  {
   "cell_type": "code",
   "execution_count": 21,
   "metadata": {},
   "outputs": [],
   "source": [
    "#Loading library\n",
    "import numpy as np\n",
    "import matplotlib.pyplot as plt\n",
    "import random\n",
    "import math\n",
    "\n",
    "#setting directory\n",
    "import os\n",
    "os.chdir(r'E:/content/drive/MyDrive')"
   ]
  },
  {
   "cell_type": "markdown",
   "metadata": {},
   "source": [
    "# Ques 2"
   ]
  },
  {
   "cell_type": "code",
   "execution_count": 22,
   "metadata": {},
   "outputs": [
    {
     "name": "stdout",
     "output_type": "stream",
     "text": [
      "(100, 2)\n",
      "(50, 2)\n",
      "(100,)\n",
      "(50,)\n"
     ]
    }
   ],
   "source": [
    "# Loading the data in numpy format\n",
    "x=np.loadtxt(\"X_train.csv\")\n",
    "y=np.loadtxt(\"Y_train.csv\")\n",
    "x_test=np.loadtxt(\"X_test.csv\")\n",
    "y_test=np.loadtxt(\"Y_test.csv\")\n",
    "\n",
    "# Checking shapes\n",
    "print(x_train.shape)\n",
    "print(x_test.shape)\n",
    "print(y_train.shape)\n",
    "print(y_test.shape)"
   ]
  },
  {
   "cell_type": "code",
   "execution_count": 23,
   "metadata": {},
   "outputs": [],
   "source": [
    "#Reshaping y variable\n",
    "y_test = y_test.reshape(50,1)\n",
    "y = y.reshape(100,1)"
   ]
  },
  {
   "cell_type": "markdown",
   "metadata": {},
   "source": [
    "# Ques 2.1\n",
    "Linear activation function.\n",
    "Here, since I will predict specific values, I will go with linear function as activation function for output layer"
   ]
  },
  {
   "cell_type": "markdown",
   "metadata": {},
   "source": [
    "# Ques 2.2\n",
    "1 neuron.\n",
    "We will predict one value for each record. We will not predict for more than 1 class. Hence, we need 1 neuron in output layer"
   ]
  },
  {
   "cell_type": "code",
   "execution_count": 24,
   "metadata": {},
   "outputs": [],
   "source": [
    "# For the first and only hidden layer, I am taking 3 neurons\n",
    "#So, total w1 will be 300. \n",
    "w1 = np.random.rand(3,2)  #last value 2 so that after transposing, we can multiply with x_train\n",
    "b1= np.random.rand(3,1)   # Since 3 neurons in hidden layer\n",
    "\n",
    "#Last/ output layer will have 1 neuron since this is not classification problem. We want 1 output. So, 1 neuron is correct\n",
    "w2 = np.random.rand(1,3)  #last value 3 since number of neurons in hiddent layer is 3. First value 1, since 1 neuron in this last layer\n",
    "b2= np.random.rand(1,1)   # Since 1 neurons in this last output layer\n",
    "\n",
    "\n",
    "#Defining the sigmoid function\n",
    "def sigmoid (z):\n",
    "    return 1/(1+np.exp(-z))\n",
    "\n",
    "#Defining the sigmoid function\n",
    "def linear (x):\n",
    "    return x"
   ]
  },
  {
   "cell_type": "code",
   "execution_count": 25,
   "metadata": {},
   "outputs": [
    {
     "name": "stdout",
     "output_type": "stream",
     "text": [
      "Avrg MSE loss on Train data:  [[6791951.91722388]]\n",
      "Avrg Accuracy on Train data:  36.856347939598884\n",
      "Avrg MSE Loss on Test data:  [[3917895.06880733]]\n",
      "Avrg Accuracy on Test data:  55.984962758278776\n"
     ]
    }
   ],
   "source": [
    "learning_rate=0.001\n",
    "\n",
    "mse_list=[]\n",
    "w1_list=[]\n",
    "w2_list=[]\n",
    "b1_list=[]\n",
    "b2_list=[]\n",
    "\n",
    "#Trying 100 iterations\n",
    "for i in range (100):\n",
    "    mse_list1=[]\n",
    "\n",
    "\n",
    "    \n",
    "    for j in range (100):\n",
    "        # Now, we will do Forward feed\n",
    "        z1=np.dot(w1,x[j].reshape(2,1))+b1   #here although there were 100 records, 1 record has been used at a time.  So, this reshaping was possible\n",
    "        a1=sigmoid(z1)\n",
    "        z2=np.dot(w2,a1)+b2\n",
    "        a2=linear(z2)\n",
    "        a_round=np.round(a2,0)\n",
    "\n",
    "        #Backpropogation\n",
    "        dz2=a2-y[j].reshape(1,1)\n",
    "        dw2=np.dot(dz2,a1.T)\n",
    "        db2=dz2\n",
    "\n",
    "        dz1=np.dot(w2.T,a2-y[j].reshape(1,1))*sigmoid(z1)*(1-sigmoid(z1))\n",
    "        dw1=np.dot(dz1,x[j].reshape(2,1).T)\n",
    "        db1=dz1\n",
    "\n",
    "        #Update rule for the network\n",
    "        w1=w1-learning_rate*dw1\n",
    "        b1=b1-learning_rate*np.mean(db1)\n",
    "        w2=w2-learning_rate*dw2\n",
    "        b2=b2-learning_rate*np.mean(db2)\n",
    "        \n",
    "        #MSE claculation\n",
    "        mse_ = ((y[j] - a2)**2)\n",
    "        mse_list1.append(mse_)\n",
    "\n",
    "    w1_list.append(w1)\n",
    "    w2_list.append(w2)\n",
    "    b1_list.append(b1)\n",
    "    b2_list.append(b2)\n",
    "\n",
    "    a=sum(mse_list1)/100\n",
    "    mse_list.append(a)\n",
    "\n",
    "\n",
    "\n",
    "\n",
    "print(\"Avrg MSE loss on Train data: \", sum(mse_list)/2*100)\n",
    "print(\"Avrg Accuracy on Train data: \", math.sqrt(sum(mse_list)/100))\n",
    "\n",
    "\n",
    "#Test data\n",
    "mse_list4=[]\n",
    "\n",
    "for i in range (len (w1_list)):\n",
    "    mse_list3=[]\n",
    "\n",
    "\n",
    "    #Since there are 50 records in test data\n",
    "    for j in range (50):\n",
    "        z1=np.dot(w1_list[i],x_test[j].reshape(2,1))+b1_list[i]\n",
    "        a1=sigmoid(z1)\n",
    "        z2=np.dot(w2_list[i],a1)+b2_list[i]\n",
    "        a2=linear(z2)\n",
    "\n",
    "        a_round=np.round(a2,0)\n",
    "        y[j]=np.round(y[j],0)\n",
    "\n",
    "\n",
    "        mse= ((y_test[j]- a2)**2)\n",
    "        mse_list3.append(mse)\n",
    "\n",
    "    a=sum(mse_list3)/50\n",
    "    mse_list4.append(a)\n",
    "\n",
    "\n",
    "print(\"Avrg MSE Loss on Test data: \",sum(mse_list4)/2*50)\n",
    "print(\"Avrg Accuracy on Test data: \", math.sqrt(sum(mse_list4)/50))"
   ]
  },
  {
   "cell_type": "markdown",
   "metadata": {},
   "source": [
    "# Ques 2.4"
   ]
  },
  {
   "cell_type": "code",
   "execution_count": 26,
   "metadata": {},
   "outputs": [
    {
     "data": {
      "image/png": "[encoded data removed]",
      "text/plain": [
       "<Figure size 432x288 with 1 Axes>"
      ]
     },
     "metadata": {
      "needs_background": "light"
     },
     "output_type": "display_data"
    }
   ],
   "source": [
    "Line1=[k for i in mse_list for j in i for k in j]\n",
    "plt.plot(np.arange(100),Line1,'red')\n",
    "Line2=[k for i in mse_list4 for j in i for k in j]\n",
    "plt.plot(np.arange(100),Line2,'green')\n",
    "plt.xlabel(\"Number of Iterations\")\n",
    "plt.ylabel(\"MSE\")\n",
    "plt.legend(('Train','Test'))\n",
    "plt.title(\"MSE Loss against the number of iteration\")\n",
    "plt.show()"
   ]
  },
  {
   "cell_type": "markdown",
   "metadata": {},
   "source": [
    "# Ques 2: 5"
   ]
  },
  {
   "cell_type": "code",
   "execution_count": 27,
   "metadata": {},
   "outputs": [
    {
     "name": "stderr",
     "output_type": "stream",
     "text": [
      "C:\\Users\\rafae\\AppData\\Local\\Temp\\ipykernel_22116\\1549003694.py:13: RuntimeWarning: overflow encountered in exp\n",
      "  return 1/(1+np.exp(-z))\n"
     ]
    }
   ],
   "source": [
    "#List of learning rate ranging from 0.001 to 1.0 to run model\n",
    "learningrates_list=[0.001,0.005,0.01,0.05,0.1,0.5,1.0]\n",
    "\n",
    "mse_list=[]\n",
    "mse_list4=[[]]\n",
    "w1_list=[]\n",
    "w2_list=[]\n",
    "b1_list=[]\n",
    "b2_list=[]\n",
    "rmse_train=[]\n",
    "rmse_test=[]\n",
    "rmse_train2=[]\n",
    "rmse_test2=[]\n",
    "\n",
    "for k in range(len(learningrates_list)):\n",
    "  learning_rate=learningrates_list[k]\n",
    "  for i in range (100):\n",
    "    mse_list1=[]\n",
    "\n",
    "    \n",
    "    for j in range (100):\n",
    "        #Forward feed\n",
    "        z1=np.dot(w1,x[j].reshape(2,1))+b1\n",
    "        a1=sigmoid(z1)\n",
    "        z2=np.dot(w2,a1)+b2\n",
    "        a2=linear(z2)\n",
    "        a_round=np.round(a2,0)\n",
    "\n",
    "\n",
    "        #Backpropagation\n",
    "        dz2=a2-y[j].reshape(1,1)\n",
    "        dw2=np.dot(dz2,a1.T)\n",
    "        db2=dz2\n",
    "        dz1=np.dot(w2.T,a2-y[j].reshape(1,1))*sigmoid(z1)*(1-sigmoid(z1))\n",
    "        dw1=np.dot(dz1,x[j].reshape(2,1).T)\n",
    "        db1=dz1\n",
    "\n",
    "        # Update rule for the model\n",
    "        w1=w1-learning_rate*dw1\n",
    "        b1=b1-learning_rate*np.mean(db1)\n",
    "        w2=w2-learning_rate*dw2\n",
    "        b2=b2-learning_rate*np.mean(db2)\n",
    "        \n",
    "        #MSE claculation\n",
    "        mse_ = ((y[j] - a2)**2)\n",
    "        mse_list1.append(mse_)\n",
    "\n",
    "    w1_list.append(w1)\n",
    "    w2_list.append(w2)\n",
    "    b1_list.append(b1)\n",
    "    b2_list.append(b2)\n",
    "\n",
    "    a=sum(mse_list1)/100\n",
    "    mse_list.append(a)\n",
    "\n",
    "\n",
    "\n",
    "\n",
    "# Test data\n",
    "  mse_list4=[]\n",
    "\n",
    "  for i in range (len (w1_list)):\n",
    "\n",
    "      mse_list3=[]\n",
    "      for j in range (50):\n",
    "          z1=np.dot(w1_list[i],x_test[j].reshape(2,1))+b1_list[i]\n",
    "          a1=sigmoid(z1)\n",
    "          z2=np.dot(w2_list[i],a1)+b2_list[i]\n",
    "          a2=linear(z2)\n",
    "          a_round=np.round(a2,0)\n",
    "          y[j]=np.round(y[j],0)\n",
    "          \n",
    "\n",
    "          mse= ((y_test[j]- a2)**2)\n",
    "          mse_list3.append(mse)\n",
    "\n",
    "\n",
    "      a=sum(mse_list3)/50\n",
    "      mse_list4.append(a)\n",
    "\n"
   ]
  },
  {
   "cell_type": "code",
   "execution_count": 28,
   "metadata": {},
   "outputs": [
    {
     "data": {
      "image/png": "[encoded data removed]",
      "text/plain": [
       "<Figure size 432x288 with 1 Axes>"
      ]
     },
     "metadata": {
      "needs_background": "light"
     },
     "output_type": "display_data"
    }
   ],
   "source": [
    "epoch=100\n",
    "num_epoch = np.arange(epoch)\n",
    "\n",
    "plt.plot(num_epoch, np.array(mse_list4[0:100]).reshape(epoch,1), color = 'black')\n",
    "plt.plot(num_epoch, np.array(mse_list4[100:200]).reshape(epoch,1), color = 'blue')\n",
    "plt.plot(num_epoch, np.array(mse_list4[200:300]).reshape(epoch,1), color = 'green')\n",
    "plt.plot(num_epoch, np.array(mse_list4[300:400]).reshape(epoch,1), color = 'red')\n",
    "plt.plot(num_epoch, np.array(mse_list4[400:500]).reshape(epoch,1), color = 'yellow')\n",
    "plt.plot(num_epoch, np.array(mse_list4[500:600]).reshape(epoch,1), color = 'orange')\n",
    "plt.plot(num_epoch, np.array(mse_list4[600:700]).reshape(epoch,1), color = 'purple')\n",
    "plt.legend((\"0.001 learning\", \"0.005 learning\", \"0.01 learning\", \"0.05 learning\", \"0.1 learning\",\"0.5 learning\", \"1.0 learning\"))\n",
    "plt.ylabel('MSE')\n",
    "plt.xlabel('Number of Iteration')\n",
    "plt.title('How MSE changes for different learning rate ')\n",
    "plt.show()"
   ]
  },
  {
   "cell_type": "markdown",
   "metadata": {},
   "source": [
    "# Here, we can see that when learning rate decreases, error (loss) also decreases, in general. This happens because with fastr learning rate, it is easy to miss global minima."
   ]
  },
  {
   "cell_type": "markdown",
   "metadata": {},
   "source": [
    "# Ques 2.6"
   ]
  },
  {
   "cell_type": "markdown",
   "metadata": {},
   "source": [
    "# Update rule does not need to be changed since here I will change just the number of neurons. Number of neurons is not part of update rule formula. Thus, it will not be chagned."
   ]
  },
  {
   "cell_type": "code",
   "execution_count": 29,
   "metadata": {},
   "outputs": [
    {
     "data": {
      "image/png": "[encoded data removed]",
      "text/plain": [
       "<Figure size 432x288 with 1 Axes>"
      ]
     },
     "metadata": {
      "needs_background": "light"
     },
     "output_type": "display_data"
    },
    {
     "data": {
      "image/png": "[encoded data removed]",
      "text/plain": [
       "<Figure size 432x288 with 1 Axes>"
      ]
     },
     "metadata": {
      "needs_background": "light"
     },
     "output_type": "display_data"
    }
   ],
   "source": [
    "mse_list=[]\n",
    "mse_list4=[]\n",
    "w1_list=[]\n",
    "w2_list=[]\n",
    "b1_list=[]\n",
    "b2_list=[]\n",
    "mse_list1=[]\n",
    "mse_list3=[]\n",
    "\n",
    "#Since there might be 1-10 neurons, I set up a loop to run model with different number of neurons\n",
    "for k in range(1,11):\n",
    "  w1=np.random.rand(k,2)\n",
    "  b1=np.random.rand(k,1)\n",
    "  w2=np.random.rand(1,k)\n",
    "  b2=np.random.rand(1,1)\n",
    "  learning_rate=0.01\n",
    "  \n",
    "  for i in range (100):\n",
    "      \n",
    "      for j in range (100):\n",
    "          #Running Forward feed\n",
    "          z1=np.dot(w1,x[j].reshape(2,1))+b1\n",
    "          a1=sigmoid(z1)\n",
    "          z2=np.dot(w2,a1)+b2\n",
    "          a2=linear(z2)\n",
    "\n",
    "\n",
    "          #Backpropagation\n",
    "          dz2=a2-y[j].reshape(1,1)\n",
    "          dw2=np.dot(dz2,a1.T)\n",
    "          db2=dz2\n",
    "          dz1=np.dot(w2.T,a2-y[j].reshape(1,1))*sigmoid(z1)*(1-sigmoid(z1))\n",
    "          dw1=np.dot(dz1,x[j].reshape(2,1).T)\n",
    "          db1=dz1\n",
    "\n",
    "          # Update rules for the model\n",
    "          w1=w1-learning_rate*dw1\n",
    "          b1=b1-learning_rate*np.mean(db1)\n",
    "          w2=w2-learning_rate*dw2\n",
    "          b2=b2-learning_rate*np.mean(db2)\n",
    "\n",
    "          #MSE claculation as accuracy metric\n",
    "          mse = ((y[j] - a2)**2)\n",
    "          mse_list1.append(mse)\n",
    "\n",
    "      w1_list.append(w1)\n",
    "      w2_list.append(w2)\n",
    "      b1_list.append(b1)\n",
    "      b2_list.append(b2)\n",
    "\n",
    "      a=sum(mse_list1)/100\n",
    "      mse_list.append(a)\n",
    "\n",
    "  \n",
    "\n",
    "\n",
    "\n",
    "\n",
    "\n",
    "  # Test data\n",
    "  for i in range (len (w1_list)):\n",
    "      for j in range (50):\n",
    "          z1=np.dot(w1_list[i],x_test[j].reshape(2,1))+b1_list[i]\n",
    "          a1=sigmoid(z1)\n",
    "          z2=np.dot(w2_list[i],a1)+b2_list[i]\n",
    "          a2=linear(z2)\n",
    "\n",
    "          mse= ((y_test[j]- a2)**2)\n",
    "          mse_list3.append(mse)\n",
    "\n",
    "\n",
    "      \n",
    "      a=sum(mse_list3)/50\n",
    "      mse_list4.append(a)\n",
    "\n",
    "epoch=100\n",
    "num_epoch = np.arange(epoch)\n",
    "plt.plot(num_epoch, np.array(mse_list4[0:100]).reshape(epoch,1), color = 'red')\n",
    "plt.plot(num_epoch, np.array(mse_list4[100:200]).reshape(epoch,1), color = 'green')\n",
    "plt.plot(num_epoch, np.array(mse_list4[200:300]).reshape(epoch,1), color = 'blue')\n",
    "plt.plot(num_epoch, np.array(mse_list4[300:400]).reshape(epoch,1), color = 'black')\n",
    "plt.plot(num_epoch, np.array(mse_list4[400:500]).reshape(epoch,1), color = 'yellow')\n",
    "plt.plot(num_epoch, np.array(mse_list4[500:600]).reshape(epoch,1), color = 'brown')\n",
    "plt.plot(num_epoch, np.array(mse_list4[600:700]).reshape(epoch,1), color = 'purple')\n",
    "plt.plot(num_epoch, np.array(mse_list4[700:800]).reshape(epoch,1), color = 'pink')\n",
    "plt.plot(num_epoch, np.array(mse_list4[800:900]).reshape(epoch,1), color = 'magenta')\n",
    "plt.plot(num_epoch, np.array(mse_list4[900:1000]).reshape(epoch,1), color = 'cyan')\n",
    "\n",
    "plt.legend((\"1 neuron\", \"2 neurons\", \"3 neurons\",\"4 neurons\", \"5 neurons\", \"6 neuron\", \"7 neurons\", \"8 neurons\",\"9 neurons\", \"10 neurons\"))\n",
    "plt.ylabel('MSE')\n",
    "plt.xlabel('Number of Iteration')\n",
    "plt.title('MSE Changes for different number of neurons')\n",
    "plt.show()\n",
    "\n",
    "L1=[k for i in mse_list4[0:100] for j in i for k in j]\n",
    "plt.plot(np.arange(100),L1, color = 'red')\n",
    "L1=[k for i in mse_list4[100:200] for j in i for k in j]\n",
    "plt.plot(np.arange(100),L1, color = 'green')\n",
    "L1=[k for i in mse_list4[200:300] for j in i for k in j]\n",
    "plt.plot(np.arange(100),L1, color = 'blue')\n",
    "L1=[k for i in mse_list4[300:400] for j in i for k in j]\n",
    "plt.plot(np.arange(100),L1, color = 'black')\n",
    "L1=[k for i in mse_list4[400:500] for j in i for k in j]\n",
    "plt.plot(np.arange(100),L1, color = 'yellow')\n",
    "L1=[k for i in mse_list4[500:600] for j in i for k in j]\n",
    "plt.plot(np.arange(100),L1, color = 'brown')\n",
    "L1=[k for i in mse_list4[600:700] for j in i for k in j]\n",
    "plt.plot(np.arange(100),L1, color = 'purple')\n",
    "L1=[k for i in mse_list4[700:800] for j in i for k in j]\n",
    "plt.plot(np.arange(100),L1, color = 'pink')\n",
    "L1=[k for i in mse_list4[800:900] for j in i for k in j]\n",
    "plt.plot(np.arange(100),L1, color = 'magenta')\n",
    "L1=[k for i in mse_list4[900:1000] for j in i for k in j]\n",
    "plt.plot(np.arange(100),L1, color = 'cyan')\n",
    "plt.legend((\"1 neuron\", \"2 neurons\", \"3 neurons\",\"4 neurons\", \"5 neurons\", \"6 neuron\", \"7 neurons\", \"8 neurons\",\"9 neurons\", \"10 neurons\"))\n",
    "plt.xlabel(\"Number of Iterations\")\n",
    "plt.ylabel(\"Acccuracy\")\n",
    "plt.show()"
   ]
  },
  {
   "cell_type": "markdown",
   "metadata": {},
   "source": [
    "# From the plot, it is clear that when I increases number of neurons, the loss has been decreased and accuracy has been increased."
   ]
  },
  {
   "cell_type": "markdown",
   "metadata": {},
   "source": [
    "# Ques 2: 7"
   ]
  },
  {
   "cell_type": "markdown",
   "metadata": {},
   "source": [
    "# Yes, the update rule needs to be changed because diffenet activation function has different derivatives. When update the weights, this can influence weights, and ultimately total loss. As a result update should not be same.\n",
    "# In equation for update rule, derivatives of activation function is taken and since the derivatives are different, so is update rules."
   ]
  },
  {
   "cell_type": "markdown",
   "metadata": {},
   "source": [
    "# Change that I made: I created activation function tanh and linear and apply them by changing the equations to ge toutput from 1st hidden layer. "
   ]
  },
  {
   "cell_type": "code",
   "execution_count": 30,
   "metadata": {},
   "outputs": [
    {
     "name": "stdout",
     "output_type": "stream",
     "text": [
      "Average MSE on Train data:  [[361.79121288]]\n",
      "Average MSE on Test data:  [[441.24130497]]\n"
     ]
    }
   ],
   "source": [
    "learning_rate=0.001\n",
    "\n",
    "#Create the tanh function\n",
    "def tanh (c):\n",
    "    return (np.exp(c)-np.exp(-c))/(np.exp(c)+np.exp(-c))\n",
    "\n",
    "\n",
    "mse_list=[]\n",
    "w1_list=[]\n",
    "w2_list=[]\n",
    "b1_list=[]\n",
    "b2_list=[]\n",
    "\n",
    "#Trying 100 iterations\n",
    "for i in range (100):\n",
    "    mse_list1=[]\n",
    "    t_list1=[]\n",
    "    t_list2=[]\n",
    "    a_list=[]\n",
    "    \n",
    "    for j in range (100):\n",
    "        #Now we will Forward feed\n",
    "        z1=np.dot(w1,x[j].reshape(2,1))+b1\n",
    "        a1=tanh(z1)\n",
    "        z2=np.dot(w2,a1)+b2\n",
    "        a2=linear(z2)\n",
    "        a_round=np.round(a_round,0)\n",
    "\n",
    "        #Backprop\n",
    "        dz2=a2.reshape(1,1)-y[j]\n",
    "        dw2=(2)*np.dot(dz2,a1.T)\n",
    "        db2=(2)*dz2\n",
    "        dz1=np.dot(w2.T,a2-y[j].reshape(1,1))*(1-tanh(z1)**2)   #according to derivative of tanh function\n",
    "        dw1=2*np.dot(dz1,x[j].reshape(2,1).T)\n",
    "        db1=2*dz1\n",
    "\n",
    "        #update rules for the network\n",
    "        w1=w1-learning_rate*dw1\n",
    "        b1=b1-learning_rate*db1\n",
    "        w2=w2-learning_rate*dw2\n",
    "        b2=b2-learning_rate*db2\n",
    "        \n",
    "        #MSE claculation\n",
    "        mse_ = ((y[j] - a2)**2)\n",
    "        mse_list1.append(mse_)\n",
    "\n",
    "    w1_list.append(w1)\n",
    "    w2_list.append(w2)\n",
    "    b1_list.append(b1)\n",
    "    b2_list.append(b2)\n",
    "    a_list.append(a2)\n",
    "\n",
    "    a=sum(mse_list1)/100\n",
    "    mse_list.append(a)\n",
    "\n",
    "\n",
    "print(\"Average MSE on Train data: \", sum(mse_list)/100)\n",
    "\n",
    "\n",
    "\n",
    "#Test data\n",
    "mse_list4=[]\n",
    "\n",
    "for i in range (len (w1_list)):\n",
    "\n",
    "    mse_list3=[]\n",
    "    for j in range (50):\n",
    "        z1=np.dot(w1_list[i],x_test[j].reshape(2,1))+b1_list[i]\n",
    "        a1=tanh(z1)\n",
    "        z2=np.dot(w2_list[i],a1)+b2_list[i]\n",
    "        a2=linear(z2)\n",
    "        y[j]=np.round(y[j],0)\n",
    "\n",
    "        mse= ((y_test[j]- a2)**2)\n",
    "        mse_list3.append(mse)\n",
    "\n",
    "\n",
    "    a=sum(mse_list3)/50\n",
    "    mse_list4.append(a)\n",
    "\n",
    "\n",
    "print(\"Average MSE on Test data: \",sum(mse_list4)/100)"
   ]
  },
  {
   "cell_type": "code",
   "execution_count": 31,
   "metadata": {},
   "outputs": [
    {
     "data": {
      "image/png": "[encoded data removed]",
      "text/plain": [
       "<Figure size 432x288 with 1 Axes>"
      ]
     },
     "metadata": {
      "needs_background": "light"
     },
     "output_type": "display_data"
    }
   ],
   "source": [
    "Line1=[k for i in mse_list for j in i for k in j]\n",
    "plt.plot(np.arange(100),Line1,'red')\n",
    "Line2=[k for i in mse_list4 for j in i for k in j]\n",
    "plt.plot(np.arange(100),Line2,'green')\n",
    "plt.xlabel(\"Number of Iterations\")\n",
    "plt.ylabel(\"MSE\")\n",
    "plt.legend(('Train','Test'))\n",
    "plt.title('Loss MSE in case of tanh function')\n",
    "plt.show()"
   ]
  },
  {
   "cell_type": "markdown",
   "metadata": {},
   "source": [
    "# We can conclude that, using tanh instead of sigmoid, did not help to improve model noticably."
   ]
  },
  {
   "cell_type": "markdown",
   "metadata": {},
   "source": [
    "# Figure: predicted y and observed y"
   ]
  },
  {
   "cell_type": "code",
   "execution_count": 32,
   "metadata": {},
   "outputs": [
    {
     "data": {
      "text/plain": [
       "[array([[-72.52469527]])]"
      ]
     },
     "execution_count": 32,
     "metadata": {},
     "output_type": "execute_result"
    }
   ],
   "source": [
    "a_list"
   ]
  },
  {
   "cell_type": "code",
   "execution_count": 33,
   "metadata": {},
   "outputs": [
    {
     "ename": "ValueError",
     "evalue": "x and y must have same first dimension, but have shapes (1, 1) and (50, 1)",
     "output_type": "error",
     "traceback": [
      "\u001b[1;31m---------------------------------------------------------------------------\u001b[0m",
      "\u001b[1;31mValueError\u001b[0m                                Traceback (most recent call last)",
      "\u001b[1;32mc:\\Users\\rafae\\Downloads\\Assignment_2_Rafae.ipynb Cell 27\u001b[0m in \u001b[0;36m<module>\u001b[1;34m\u001b[0m\n\u001b[0;32m      <a href='vscode-notebook-cell:/c%3A/Users/rafae/Downloads/Assignment_2_Rafae.ipynb#X36sZmlsZQ%3D%3D?line=0'>1</a>\u001b[0m \u001b[39mfor\u001b[39;00m i \u001b[39min\u001b[39;00m a_list:\n\u001b[1;32m----> <a href='vscode-notebook-cell:/c%3A/Users/rafae/Downloads/Assignment_2_Rafae.ipynb#X36sZmlsZQ%3D%3D?line=1'>2</a>\u001b[0m     plt\u001b[39m.\u001b[39;49mplot(i, y_test)\n",
      "File \u001b[1;32mc:\\Users\\rafae\\AppData\\Local\\Programs\\Python\\Python310\\lib\\site-packages\\matplotlib\\pyplot.py:2757\u001b[0m, in \u001b[0;36mplot\u001b[1;34m(scalex, scaley, data, *args, **kwargs)\u001b[0m\n\u001b[0;32m   2755\u001b[0m \u001b[39m@_copy_docstring_and_deprecators\u001b[39m(Axes\u001b[39m.\u001b[39mplot)\n\u001b[0;32m   2756\u001b[0m \u001b[39mdef\u001b[39;00m \u001b[39mplot\u001b[39m(\u001b[39m*\u001b[39margs, scalex\u001b[39m=\u001b[39m\u001b[39mTrue\u001b[39;00m, scaley\u001b[39m=\u001b[39m\u001b[39mTrue\u001b[39;00m, data\u001b[39m=\u001b[39m\u001b[39mNone\u001b[39;00m, \u001b[39m*\u001b[39m\u001b[39m*\u001b[39mkwargs):\n\u001b[1;32m-> 2757\u001b[0m     \u001b[39mreturn\u001b[39;00m gca()\u001b[39m.\u001b[39mplot(\n\u001b[0;32m   2758\u001b[0m         \u001b[39m*\u001b[39margs, scalex\u001b[39m=\u001b[39mscalex, scaley\u001b[39m=\u001b[39mscaley,\n\u001b[0;32m   2759\u001b[0m         \u001b[39m*\u001b[39m\u001b[39m*\u001b[39m({\u001b[39m\"\u001b[39m\u001b[39mdata\u001b[39m\u001b[39m\"\u001b[39m: data} \u001b[39mif\u001b[39;00m data \u001b[39mis\u001b[39;00m \u001b[39mnot\u001b[39;00m \u001b[39mNone\u001b[39;00m \u001b[39melse\u001b[39;00m {}), \u001b[39m*\u001b[39m\u001b[39m*\u001b[39mkwargs)\n",
      "File \u001b[1;32mc:\\Users\\rafae\\AppData\\Local\\Programs\\Python\\Python310\\lib\\site-packages\\matplotlib\\axes\\_axes.py:1632\u001b[0m, in \u001b[0;36mAxes.plot\u001b[1;34m(self, scalex, scaley, data, *args, **kwargs)\u001b[0m\n\u001b[0;32m   1390\u001b[0m \u001b[39m\"\"\"\u001b[39;00m\n\u001b[0;32m   1391\u001b[0m \u001b[39mPlot y versus x as lines and/or markers.\u001b[39;00m\n\u001b[0;32m   1392\u001b[0m \n\u001b[1;32m   (...)\u001b[0m\n\u001b[0;32m   1629\u001b[0m \u001b[39m(``'green'``) or hex strings (``'#008000'``).\u001b[39;00m\n\u001b[0;32m   1630\u001b[0m \u001b[39m\"\"\"\u001b[39;00m\n\u001b[0;32m   1631\u001b[0m kwargs \u001b[39m=\u001b[39m cbook\u001b[39m.\u001b[39mnormalize_kwargs(kwargs, mlines\u001b[39m.\u001b[39mLine2D)\n\u001b[1;32m-> 1632\u001b[0m lines \u001b[39m=\u001b[39m [\u001b[39m*\u001b[39m\u001b[39mself\u001b[39m\u001b[39m.\u001b[39m_get_lines(\u001b[39m*\u001b[39margs, data\u001b[39m=\u001b[39mdata, \u001b[39m*\u001b[39m\u001b[39m*\u001b[39mkwargs)]\n\u001b[0;32m   1633\u001b[0m \u001b[39mfor\u001b[39;00m line \u001b[39min\u001b[39;00m lines:\n\u001b[0;32m   1634\u001b[0m     \u001b[39mself\u001b[39m\u001b[39m.\u001b[39madd_line(line)\n",
      "File \u001b[1;32mc:\\Users\\rafae\\AppData\\Local\\Programs\\Python\\Python310\\lib\\site-packages\\matplotlib\\axes\\_base.py:312\u001b[0m, in \u001b[0;36m_process_plot_var_args.__call__\u001b[1;34m(self, data, *args, **kwargs)\u001b[0m\n\u001b[0;32m    310\u001b[0m     this \u001b[39m+\u001b[39m\u001b[39m=\u001b[39m args[\u001b[39m0\u001b[39m],\n\u001b[0;32m    311\u001b[0m     args \u001b[39m=\u001b[39m args[\u001b[39m1\u001b[39m:]\n\u001b[1;32m--> 312\u001b[0m \u001b[39myield from\u001b[39;00m \u001b[39mself\u001b[39;49m\u001b[39m.\u001b[39;49m_plot_args(this, kwargs)\n",
      "File \u001b[1;32mc:\\Users\\rafae\\AppData\\Local\\Programs\\Python\\Python310\\lib\\site-packages\\matplotlib\\axes\\_base.py:498\u001b[0m, in \u001b[0;36m_process_plot_var_args._plot_args\u001b[1;34m(self, tup, kwargs, return_kwargs)\u001b[0m\n\u001b[0;32m    495\u001b[0m     \u001b[39mself\u001b[39m\u001b[39m.\u001b[39maxes\u001b[39m.\u001b[39myaxis\u001b[39m.\u001b[39mupdate_units(y)\n\u001b[0;32m    497\u001b[0m \u001b[39mif\u001b[39;00m x\u001b[39m.\u001b[39mshape[\u001b[39m0\u001b[39m] \u001b[39m!=\u001b[39m y\u001b[39m.\u001b[39mshape[\u001b[39m0\u001b[39m]:\n\u001b[1;32m--> 498\u001b[0m     \u001b[39mraise\u001b[39;00m \u001b[39mValueError\u001b[39;00m(\u001b[39mf\u001b[39m\u001b[39m\"\u001b[39m\u001b[39mx and y must have same first dimension, but \u001b[39m\u001b[39m\"\u001b[39m\n\u001b[0;32m    499\u001b[0m                      \u001b[39mf\u001b[39m\u001b[39m\"\u001b[39m\u001b[39mhave shapes \u001b[39m\u001b[39m{\u001b[39;00mx\u001b[39m.\u001b[39mshape\u001b[39m}\u001b[39;00m\u001b[39m and \u001b[39m\u001b[39m{\u001b[39;00my\u001b[39m.\u001b[39mshape\u001b[39m}\u001b[39;00m\u001b[39m\"\u001b[39m)\n\u001b[0;32m    500\u001b[0m \u001b[39mif\u001b[39;00m x\u001b[39m.\u001b[39mndim \u001b[39m>\u001b[39m \u001b[39m2\u001b[39m \u001b[39mor\u001b[39;00m y\u001b[39m.\u001b[39mndim \u001b[39m>\u001b[39m \u001b[39m2\u001b[39m:\n\u001b[0;32m    501\u001b[0m     \u001b[39mraise\u001b[39;00m \u001b[39mValueError\u001b[39;00m(\u001b[39mf\u001b[39m\u001b[39m\"\u001b[39m\u001b[39mx and y can be no greater than 2D, but have \u001b[39m\u001b[39m\"\u001b[39m\n\u001b[0;32m    502\u001b[0m                      \u001b[39mf\u001b[39m\u001b[39m\"\u001b[39m\u001b[39mshapes \u001b[39m\u001b[39m{\u001b[39;00mx\u001b[39m.\u001b[39mshape\u001b[39m}\u001b[39;00m\u001b[39m and \u001b[39m\u001b[39m{\u001b[39;00my\u001b[39m.\u001b[39mshape\u001b[39m}\u001b[39;00m\u001b[39m\"\u001b[39m)\n",
      "\u001b[1;31mValueError\u001b[0m: x and y must have same first dimension, but have shapes (1, 1) and (50, 1)"
     ]
    },
    {
     "data": {
      "image/png": "[encoded data removed]",
      "text/plain": [
       "<Figure size 432x288 with 1 Axes>"
      ]
     },
     "metadata": {
      "needs_background": "light"
     },
     "output_type": "display_data"
    }
   ],
   "source": [
    "for i in a_list:\n",
    "    plt.plot(i, y_test)"
   ]
  },
  {
   "cell_type": "markdown",
   "metadata": {},
   "source": [
    "# Ques: 7"
   ]
  },
  {
   "cell_type": "markdown",
   "metadata": {},
   "source": [
    "# Effect of activation function is it changes the output from layers typically by adding non-linearity. In this way, it help model to capture non-linearity.\n",
    "# From the following analysis, it can be said that for this dataset, the following model improved accuracy when I used tanh, however, the model did not work in case of linaer activation function in hidden layer."
   ]
  },
  {
   "cell_type": "markdown",
   "metadata": {},
   "source": [
    "# Yes, since the activation function will be changed based on activation function since different activation function has different derivatives."
   ]
  },
  {
   "cell_type": "markdown",
   "metadata": {},
   "source": [
    "# Change that I made: I created activation function tanh and linear and apply them by changing the equations to ge toutput from 1st hidden layer. "
   ]
  },
  {
   "cell_type": "code",
   "execution_count": null,
   "metadata": {},
   "outputs": [
    {
     "name": "stderr",
     "output_type": "stream",
     "text": [
      "C:\\Users\\rafae\\AppData\\Local\\Temp\\ipykernel_4772\\1298171523.py:50: RuntimeWarning: overflow encountered in square\n",
      "  mse_ = ((y[j] - a2)**2)\n"
     ]
    },
    {
     "name": "stdout",
     "output_type": "stream",
     "text": [
      "Avrg MSE loss on Train data for linear function:  [[nan]]\n",
      "Avrg MSE Loss on Test data for linear function:  [[nan]]\n"
     ]
    }
   ],
   "source": [
    "#Using the linear function\n",
    "def linear (x):\n",
    "  return x\n",
    "\n",
    "\n",
    "learning_rate=0.001\n",
    "\n",
    "mse_list=[]\n",
    "w1_list=[]\n",
    "w2_list=[]\n",
    "b1_list=[]\n",
    "b2_list=[]\n",
    "t11_list=[]\n",
    "\n",
    "#Trying 100 iterations\n",
    "for i in range (100):\n",
    "    mse_list1=[]\n",
    "    t_list1=[]\n",
    "    t_list2=[]\n",
    "    \n",
    "    for j in range (100):\n",
    "        # Now, we will do Forward feed\n",
    "        z1=np.dot(w1,x[j].reshape(2,1))+b1   #here although there were 100 records, 1 record has been used at a time.  So, this reshaping was possible\n",
    "        a1=linear(z1)\n",
    "        z2=np.dot(w2,a1)+b2\n",
    "        a2=linear(z2)\n",
    "        a_round=np.round(a2,0)\n",
    "\n",
    "        #Getting accuracy \n",
    "        if y[j]== a_round or a2:\n",
    "            t_list1.append(1)\n",
    "        else:\n",
    "            t_list2.append(1)\n",
    "\n",
    "        #Backpropogation\n",
    "        dz2=a2-y[j].reshape(1,1)\n",
    "        dw2=np.dot(dz2,a1.T)\n",
    "        db2=dz2\n",
    "        dz1=np.dot(w2.T,a2-y[j].reshape(1,1))*1  #according to  derivatives for linear function\n",
    "        dw1=np.dot(dz1,x[j].reshape(2,1).T)\n",
    "        db1=dz1\n",
    "\n",
    "        #Update rule for the network\n",
    "        w1=w1-learning_rate*dw1\n",
    "        b1=b1-learning_rate*np.mean(db1)\n",
    "        w2=w2-learning_rate*dw2\n",
    "        b2=b2-learning_rate*np.mean(db2)\n",
    "        \n",
    "        #MSE claculation\n",
    "        mse_ = ((y[j] - a2)**2)\n",
    "        mse_list1.append(mse_)\n",
    "\n",
    "    w1_list.append(w1)\n",
    "    w2_list.append(w2)\n",
    "    b1_list.append(b1)\n",
    "    b2_list.append(b2)\n",
    "\n",
    "    a=sum(mse_list1)/100\n",
    "    mse_list.append(a)\n",
    "    b=(len(t_list1))/100\n",
    "    t11_list.append(b)\n",
    "\n",
    "\n",
    "print(\"Avrg MSE loss on Train data for linear function: \", sum(mse_list)/2*100)\n",
    "\n",
    "\n",
    "#Test data\n",
    "mse_list4=[]\n",
    "t33_list=[]\n",
    "\n",
    "for i in range (len (w1_list)):\n",
    "    t_list3=[]\n",
    "    t_list4=[]\n",
    "    mse_list3=[]\n",
    "\n",
    "    #Since there are 50 records in test data\n",
    "    for j in range (50):\n",
    "        z1=np.dot(w1_list[i],x_test[j].reshape(2,1))+b1_list[i]\n",
    "        a1=sigmoid(z1)\n",
    "        z2=np.dot(w2_list[i],a1)+b2_list[i]\n",
    "        a2=linear(z2)\n",
    "        a_round=np.round(a2,0)\n",
    "        y[j]=np.round(y[j],0)\n",
    "        #Accuracy calcualtion\n",
    "        if y[j]== a_round or a2:\n",
    "            t_list3.append(1)\n",
    "        else:\n",
    "            t_list4.append(1)\n",
    "\n",
    "        mse= ((y_test[j]- a2)**2)\n",
    "        mse_list3.append(mse)\n",
    "\n",
    "    a=sum(mse_list3)/50\n",
    "    mse_list4.append(a)\n",
    "    b=(len(t_list3))/50\n",
    "    t33_list.append(b)\n",
    "\n",
    "\n",
    "print(\"Avrg MSE Loss on Test data for linear function: \",sum(mse_list4)/2*50)"
   ]
  },
  {
   "cell_type": "code",
   "execution_count": null,
   "metadata": {},
   "outputs": [
    {
     "data": {
      "image/png": "[encoded data removed]",
      "text/plain": [
       "<Figure size 432x288 with 1 Axes>"
      ]
     },
     "metadata": {
      "needs_background": "light"
     },
     "output_type": "display_data"
    }
   ],
   "source": [
    "Line1=[k for i in mse_list for j in i for k in j]\n",
    "plt.plot(np.arange(100),Line1,'red')\n",
    "Line2=[k for i in mse_list4 for j in i for k in j]\n",
    "plt.plot(np.arange(100),Line2,'green')\n",
    "plt.xlabel(\"Number of Iterations\")\n",
    "plt.ylabel(\"MSE\")\n",
    "plt.legend(('Train','Test'))\n",
    "plt.title('Loss MSE in case of linear function')\n",
    "plt.show()"
   ]
  }
 ],
 "metadata": {
  "kernelspec": {
   "display_name": "Python 3.10.1 64-bit",
   "language": "python",
   "name": "python3"
  },
  "language_info": {
   "codemirror_mode": {
    "name": "ipython",
    "version": 3
   },
   "file_extension": ".py",
   "mimetype": "text/x-python",
   "name": "python",
   "nbconvert_exporter": "python",
   "pygments_lexer": "ipython3",
   "version": "3.10.1"
  },
  "orig_nbformat": 4,
  "vscode": {
   "interpreter": {
    "hash": "5722daad9755055b013a651651e76bfefcd0039befef69efb03fa00fbea6a530"
   }
  }
 },
 "nbformat": 4,
 "nbformat_minor": 2
}
